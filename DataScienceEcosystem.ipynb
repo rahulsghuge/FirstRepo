{
 "cells": [
  {
   "cell_type": "markdown",
   "id": "6295dd47-537f-4545-850c-b76058c28fdb",
   "metadata": {},
   "source": [
    "# Data Science Tools and Ecosystem"
   ]
  },
  {
   "cell_type": "markdown",
   "id": "a720dc13-ea31-4b19-8176-5adad316a1cd",
   "metadata": {},
   "source": [
    "In this notebook, Data Science Tools and Ecosystem are summarized."
   ]
  },
  {
   "cell_type": "markdown",
   "id": "c88b060c-d876-42f9-9ddb-95710f113e3b",
   "metadata": {},
   "source": [
    "Some of the popular languages that Data Scientists use are:\n",
    "\n",
    "1. Python\n",
    "2. R\n",
    "3. SQL"
   ]
  },
  {
   "cell_type": "markdown",
   "id": "88cbf97d-da5c-49d2-be15-9f55693fe4a8",
   "metadata": {},
   "source": [
    "Some of the commonly used libraries used by Data Scientists include:\n",
    "\n",
    "1. NumPy\n",
    "2. Pandas\n",
    "3. Scikit-Learn\n",
    "4. TensorFlow\n",
    "5. PyTorch"
   ]
  },
  {
   "cell_type": "markdown",
   "id": "8ef5d243-f8b9-44b3-bab2-fad4f25793ec",
   "metadata": {},
   "source": [
    "| Data Science Tools |\n",
    "| Jupyter Notebook |\n",
    "| RStudio |\n",
    "| Visual Studio Code |"
   ]
  },
  {
   "cell_type": "markdown",
   "id": "5127cddc-188f-4431-bd0b-ad7101e72c3e",
   "metadata": {},
   "source": [
    "### Below are a few examples of evaluating arithmetic expressions in Python."
   ]
  },
  {
   "cell_type": "code",
   "execution_count": 5,
   "id": "4d998e0d-6e47-4d5e-9a2b-24c1b68a35e5",
   "metadata": {
    "tags": []
   },
   "outputs": [
    {
     "data": {
      "text/plain": [
       "17"
      ]
     },
     "execution_count": 5,
     "metadata": {},
     "output_type": "execute_result"
    }
   ],
   "source": [
    "# This a simple arithmetic expression to multiply then add integers.\n",
    "(3 * 4) + 5"
   ]
  },
  {
   "cell_type": "code",
   "execution_count": 6,
   "id": "ef6f3da8-d41d-45f1-b902-d44fa01a9a88",
   "metadata": {
    "tags": []
   },
   "outputs": [
    {
     "data": {
      "text/plain": [
       "3.3333333333333335"
      ]
     },
     "execution_count": 6,
     "metadata": {},
     "output_type": "execute_result"
    }
   ],
   "source": [
    "# This will convert 200 minutes to hours by dividing by 60.\n",
    "200 / 60"
   ]
  },
  {
   "cell_type": "markdown",
   "id": "aa3944cf-070d-43e8-8d61-f311f4c6c16f",
   "metadata": {},
   "source": [
    "**Objectives:**\n",
    "\n",
    "* List popular languages for Data Science.\n",
    "* List commonly used libraries in data science.\n",
    "* List development environment open source tools used in data science.\n",
    "* Demonstrate how to create and evaluate arithmetic expressions in Python.\n",
    "* Demonstrate how to convert minutes to hours in Python."
   ]
  },
  {
   "cell_type": "markdown",
   "id": "8a01cdf8-5bca-407a-99f7-b07efde12d72",
   "metadata": {},
   "source": [
    "## Author\n",
    "\n",
    "Rahul Ghuge"
   ]
  },
  {
   "cell_type": "code",
   "execution_count": null,
   "id": "27f4a83c-225e-44ae-a3ab-71319c1ffb5c",
   "metadata": {},
   "outputs": [],
   "source": []
  }
 ],
 "metadata": {
  "kernelspec": {
   "display_name": "Python",
   "language": "python",
   "name": "conda-env-python-py"
  },
  "language_info": {
   "codemirror_mode": {
    "name": "ipython",
    "version": 3
   },
   "file_extension": ".py",
   "mimetype": "text/x-python",
   "name": "python",
   "nbconvert_exporter": "python",
   "pygments_lexer": "ipython3",
   "version": "3.7.12"
  }
 },
 "nbformat": 4,
 "nbformat_minor": 5
}
